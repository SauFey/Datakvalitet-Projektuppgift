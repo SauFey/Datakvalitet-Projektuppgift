{
 "cells": [
  {
   "cell_type": "markdown",
   "id": "5bc1af7c",
   "metadata": {},
   "source": [
    "- Importera data filerna sebank_customer.csv och transactions.csv\n",
    "- Validerar ovanstående filer med hjälp av mydata.df.py\n",
    "- \n"
   ]
  }
 ],
 "metadata": {
  "language_info": {
   "name": "python"
  }
 },
 "nbformat": 4,
 "nbformat_minor": 5
}
